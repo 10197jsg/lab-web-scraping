{
  "cells": [
    {
      "cell_type": "markdown",
      "id": "7e7a1ab8-2599-417d-9a65-25ef07f3a786",
      "metadata": {
        "id": "7e7a1ab8-2599-417d-9a65-25ef07f3a786"
      },
      "source": [
        "# Lab | Web Scraping"
      ]
    },
    {
      "cell_type": "markdown",
      "id": "ce8882fc-4815-4567-92fa-b4816358ba7d",
      "metadata": {
        "id": "ce8882fc-4815-4567-92fa-b4816358ba7d"
      },
      "source": [
        "Welcome to the \"Books to Scrape\" Web Scraping Adventure Lab!\n",
        "\n",
        "**Objective**\n",
        "\n",
        "In this lab, we will embark on a mission to unearth valuable insights from the data available on Books to Scrape, an online platform showcasing a wide variety of books. As data analyst, you have been tasked with scraping a specific subset of book data from Books to Scrape to assist publishing companies in understanding the landscape of highly-rated books across different genres. Your insights will help shape future book marketing strategies and publishing decisions.\n",
        "\n",
        "**Background**\n",
        "\n",
        "In a world where data has become the new currency, businesses are leveraging big data to make informed decisions that drive success and profitability. The publishing industry, much like others, utilizes data analytics to understand market trends, reader preferences, and the performance of books based on factors such as genre, author, and ratings. Books to Scrape serves as a rich source of such data, offering detailed information about a diverse range of books, making it an ideal platform for extracting insights to aid in informed decision-making within the literary world.\n",
        "\n",
        "**Task**\n",
        "\n",
        "Your task is to create a Python script using BeautifulSoup and pandas to scrape Books to Scrape book data, focusing on book ratings and genres. The script should be able to filter books with ratings above a certain threshold and in specific genres. Additionally, the script should structure the scraped data in a tabular format using pandas for further analysis.\n",
        "\n",
        "**Expected Outcome**\n",
        "\n",
        "A function named `scrape_books` that takes two parameters: `min_rating` and `max_price`. The function should scrape book data from the \"Books to Scrape\" website and return a `pandas` DataFrame with the following columns:\n",
        "\n",
        "**Expected Outcome**\n",
        "\n",
        "- A function named `scrape_books` that takes two parameters: `min_rating` and `max_price`.\n",
        "- The function should return a DataFrame with the following columns:\n",
        "  - **UPC**: The Universal Product Code (UPC) of the book.\n",
        "  - **Title**: The title of the book.\n",
        "  - **Price (£)**: The price of the book in pounds.\n",
        "  - **Rating**: The rating of the book (1-5 stars).\n",
        "  - **Genre**: The genre of the book.\n",
        "  - **Availability**: Whether the book is in stock or not.\n",
        "  - **Description**: A brief description or product description of the book (if available).\n",
        "  \n",
        "You will execute this script to scrape data for books with a minimum rating of `4.0 and above` and a maximum price of `£20`. \n",
        "\n",
        "Remember to experiment with different ratings and prices to ensure your code is versatile and can handle various searches effectively!\n",
        "\n",
        "**Resources**\n",
        "\n",
        "- [Beautiful Soup Documentation](https://www.crummy.com/software/BeautifulSoup/bs4/doc/)\n",
        "- [Pandas Documentation](https://pandas.pydata.org/pandas-docs/stable/index.html)\n",
        "- [Books to Scrape](https://books.toscrape.com/)\n"
      ]
    },
    {
      "cell_type": "markdown",
      "id": "3519921d-5890-445b-9a33-934ed8ee378c",
      "metadata": {
        "id": "3519921d-5890-445b-9a33-934ed8ee378c"
      },
      "source": [
        "**Hint**\n",
        "\n",
        "Your first mission is to familiarize yourself with the **Books to Scrape** website. Navigate to [Books to Scrape](http://books.toscrape.com/) and explore the available books to understand their layout and structure. \n",
        "\n",
        "Next, think about how you can set parameters for your data extraction:\n",
        "\n",
        "- **Minimum Rating**: Focus on books with a rating of 4.0 and above.\n",
        "- **Maximum Price**: Filter for books priced up to £20.\n",
        "\n",
        "After reviewing the site, you can construct a plan for scraping relevant data. Pay attention to the details displayed for each book, including the title, price, rating, and availability. This will help you identify the correct HTML elements to target with your scraping script.\n",
        "\n",
        "Make sure to build your scraping URL and logic based on the patterns you observe in the HTML structure of the book listings!"
      ]
    },
    {
      "cell_type": "markdown",
      "id": "25a83a0d-a742-49f6-985e-e27887cbf922",
      "metadata": {
        "id": "25a83a0d-a742-49f6-985e-e27887cbf922"
      },
      "source": [
        "\n",
        "---\n",
        "\n",
        "**Best of luck! Immerse yourself in the world of books, and may the data be with you!**"
      ]
    },
    {
      "cell_type": "markdown",
      "id": "7b75cf0d-9afa-4eec-a9e2-befeac68b2a0",
      "metadata": {
        "id": "7b75cf0d-9afa-4eec-a9e2-befeac68b2a0"
      },
      "source": [
        "**Important Note**:\n",
        "\n",
        "In the fast-changing online world, websites often update and change their structures. When you try this lab, the **Books to Scrape** website might differ from what you expect.\n",
        "\n",
        "If you encounter issues due to these changes, like new rules or obstacles preventing data extraction, don’t worry! Get creative.\n",
        "\n",
        "You can choose another website that interests you and is suitable for scraping data. Options like Wikipedia, The New York Times, or even library databases are great alternatives. The main goal remains the same: extract useful data and enhance your web scraping skills while exploring a source of information you enjoy. This is your opportunity to practice and adapt to different web environments!"
      ]
    },
    {
      "cell_type": "code",
      "execution_count": 7,
      "id": "40359eee-9cd7-4884-bfa4-83344c222305",
      "metadata": {
        "id": "40359eee-9cd7-4884-bfa4-83344c222305"
      },
      "outputs": [],
      "source": [
        "import requests\n",
        "from bs4 import BeautifulSoup\n",
        "import pandas as pd\n",
        "import re\n",
        "import time"
      ]
    },
    {
      "cell_type": "code",
      "execution_count": 9,
      "id": "3373a658",
      "metadata": {},
      "outputs": [],
      "source": [
        "# Map star class to numeric rating\n",
        "RATING_MAP = {\n",
        "    \"One\": 1,\n",
        "    \"Two\": 2,\n",
        "    \"Three\": 3,\n",
        "    \"Four\": 4,\n",
        "    \"Five\": 5\n",
        "}\n",
        "\n",
        "def scrape_books(min_rating=4, max_price=20):\n",
        "    base_url = \"http://books.toscrape.com/\"\n",
        "    books = []\n",
        "\n",
        "    next_page = \"catalogue/page-1.html\"\n",
        "\n",
        "    while next_page:\n",
        "        print(f\"Scraping page: {next_page}\")\n",
        "        page_url = base_url + next_page\n",
        "        res = requests.get(page_url)\n",
        "        soup = BeautifulSoup(res.text, 'html.parser')\n",
        "\n",
        "        for article in soup.select('article.product_pod'):\n",
        "            title = article.h3.a['title']\n",
        "\n",
        "            # ⭐ Safe price extraction\n",
        "            price_text = article.select_one('.price_color').text\n",
        "            match = re.search(r'[\\d.]+', price_text)\n",
        "            if not match:\n",
        "                print(f\"[WARNING] Couldn't extract price from: {price_text}\")\n",
        "                continue\n",
        "            price = float(match.group())\n",
        "\n",
        "            # Rating extraction\n",
        "            rating_class = article.p.get('class')[1]  # e.g. 'Four'\n",
        "            rating = RATING_MAP.get(rating_class, 0)\n",
        "\n",
        "            # Filter early\n",
        "            if rating < min_rating or price > max_price:\n",
        "                continue\n",
        "\n",
        "            # Link to book detail page\n",
        "            detail_relative_url = article.h3.a['href'].replace('../../../', '')\n",
        "            detail_url = base_url + 'catalogue/' + detail_relative_url\n",
        "\n",
        "            detail_res = requests.get(detail_url)\n",
        "            detail_soup = BeautifulSoup(detail_res.text, 'html.parser')\n",
        "\n",
        "            # Extract additional data\n",
        "            upc = detail_soup.select_one('th:contains(\"UPC\") + td')\n",
        "            upc = upc.text if upc else \"N/A\"\n",
        "\n",
        "            description_tag = detail_soup.select_one('#product_description ~ p')\n",
        "            description = description_tag.text.strip() if description_tag else \"\"\n",
        "\n",
        "            availability_tag = detail_soup.select_one('.availability')\n",
        "            availability = availability_tag.text.strip() if availability_tag else \"Unknown\"\n",
        "\n",
        "            genre_tag = detail_soup.select('ul.breadcrumb li a')\n",
        "            genre = genre_tag[-1].text.strip() if len(genre_tag) >= 3 else \"Unknown\"\n",
        "\n",
        "            books.append({\n",
        "                \"UPC\": upc,\n",
        "                \"Title\": title,\n",
        "                \"Price (£)\": price,\n",
        "                \"Rating\": rating,\n",
        "                \"Genre\": genre,\n",
        "                \"Availability\": availability,\n",
        "                \"Description\": description\n",
        "            })\n",
        "\n",
        "            # Be nice to the site\n",
        "            time.sleep(0.5)\n",
        "\n",
        "        # Move to the next page\n",
        "        next_button = soup.select_one('li.next > a')\n",
        "        next_page = \"catalogue/\" + next_button['href'] if next_button else None\n",
        "\n",
        "    # Create and return DataFrame\n",
        "    return pd.DataFrame(books)"
      ]
    },
    {
      "cell_type": "code",
      "execution_count": 10,
      "id": "7c4c5189",
      "metadata": {},
      "outputs": [
        {
          "name": "stdout",
          "output_type": "stream",
          "text": [
            "Scraping page: catalogue/page-1.html\n"
          ]
        },
        {
          "name": "stderr",
          "output_type": "stream",
          "text": [
            "/opt/anaconda3/lib/python3.12/site-packages/soupsieve/css_parser.py:856: FutureWarning: The pseudo class ':contains' is deprecated, ':-soup-contains' should be used moving forward.\n",
            "  warnings.warn(  # noqa: B028\n"
          ]
        },
        {
          "name": "stdout",
          "output_type": "stream",
          "text": [
            "Scraping page: catalogue/page-2.html\n",
            "Scraping page: catalogue/page-3.html\n",
            "Scraping page: catalogue/page-4.html\n",
            "Scraping page: catalogue/page-5.html\n",
            "Scraping page: catalogue/page-6.html\n",
            "Scraping page: catalogue/page-7.html\n",
            "Scraping page: catalogue/page-8.html\n",
            "Scraping page: catalogue/page-9.html\n",
            "Scraping page: catalogue/page-10.html\n",
            "Scraping page: catalogue/page-11.html\n",
            "Scraping page: catalogue/page-12.html\n",
            "Scraping page: catalogue/page-13.html\n",
            "Scraping page: catalogue/page-14.html\n",
            "Scraping page: catalogue/page-15.html\n",
            "Scraping page: catalogue/page-16.html\n",
            "Scraping page: catalogue/page-17.html\n",
            "Scraping page: catalogue/page-18.html\n",
            "Scraping page: catalogue/page-19.html\n",
            "Scraping page: catalogue/page-20.html\n",
            "Scraping page: catalogue/page-21.html\n",
            "Scraping page: catalogue/page-22.html\n",
            "Scraping page: catalogue/page-23.html\n",
            "Scraping page: catalogue/page-24.html\n",
            "Scraping page: catalogue/page-25.html\n",
            "Scraping page: catalogue/page-26.html\n",
            "Scraping page: catalogue/page-27.html\n",
            "Scraping page: catalogue/page-28.html\n",
            "Scraping page: catalogue/page-29.html\n",
            "Scraping page: catalogue/page-30.html\n",
            "Scraping page: catalogue/page-31.html\n",
            "Scraping page: catalogue/page-32.html\n",
            "Scraping page: catalogue/page-33.html\n",
            "Scraping page: catalogue/page-34.html\n",
            "Scraping page: catalogue/page-35.html\n",
            "Scraping page: catalogue/page-36.html\n",
            "Scraping page: catalogue/page-37.html\n",
            "Scraping page: catalogue/page-38.html\n",
            "Scraping page: catalogue/page-39.html\n",
            "Scraping page: catalogue/page-40.html\n",
            "Scraping page: catalogue/page-41.html\n",
            "Scraping page: catalogue/page-42.html\n",
            "Scraping page: catalogue/page-43.html\n",
            "Scraping page: catalogue/page-44.html\n",
            "Scraping page: catalogue/page-45.html\n",
            "Scraping page: catalogue/page-46.html\n",
            "Scraping page: catalogue/page-47.html\n",
            "Scraping page: catalogue/page-48.html\n",
            "Scraping page: catalogue/page-49.html\n",
            "Scraping page: catalogue/page-50.html\n",
            "                UPC                                              Title  \\\n",
            "0  ce6396b0f23f6ecc                                        Set Me Free   \n",
            "1  6258a1f6a6dcfe50  The Four Agreements: A Practical Guide to Pers...   \n",
            "2  6be3beb0793a53e7                                     Sophie's World   \n",
            "3  657fe5ead67a7767            Untitled Collection: Sabbath Poems 2014   \n",
            "4  51653ef291ab7ddc                                    This One Summer   \n",
            "\n",
            "   Price (£)  Rating           Genre             Availability  \\\n",
            "0      17.46       5     Young Adult  In stock (19 available)   \n",
            "1      17.66       5    Spirituality  In stock (18 available)   \n",
            "2      15.94       5      Philosophy  In stock (18 available)   \n",
            "3      14.27       4          Poetry  In stock (16 available)   \n",
            "4      19.49       4  Sequential Art  In stock (16 available)   \n",
            "\n",
            "                                         Description  \n",
            "0  Aaron Ledbetterâs future had been planned ou...  \n",
            "1  In The Four Agreements, don Miguel Ruiz reveal...  \n",
            "2  A page-turning novel that is also an explorati...  \n",
            "3  More than thirty-five years ago, when the weat...  \n",
            "4  Every summer, Rose goes with her mom and dad t...  \n"
          ]
        }
      ],
      "source": [
        "df = scrape_books(min_rating=4, max_price=20)\n",
        "print(df.head())"
      ]
    }
  ],
  "metadata": {
    "colab": {
      "provenance": []
    },
    "kernelspec": {
      "display_name": "base",
      "language": "python",
      "name": "python3"
    },
    "language_info": {
      "codemirror_mode": {
        "name": "ipython",
        "version": 3
      },
      "file_extension": ".py",
      "mimetype": "text/x-python",
      "name": "python",
      "nbconvert_exporter": "python",
      "pygments_lexer": "ipython3",
      "version": "3.12.7"
    }
  },
  "nbformat": 4,
  "nbformat_minor": 5
}
